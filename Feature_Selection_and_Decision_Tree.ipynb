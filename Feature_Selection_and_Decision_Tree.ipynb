{
 "cells": [
  {
   "cell_type": "code",
   "execution_count": 2,
   "metadata": {},
   "outputs": [
    {
     "name": "stdout",
     "output_type": "stream",
     "text": [
      "RangeIndex(start=0, stop=39859, step=1)\n"
     ]
    },
    {
     "data": {
      "text/html": [
       "<div>\n",
       "<style scoped>\n",
       "    .dataframe tbody tr th:only-of-type {\n",
       "        vertical-align: middle;\n",
       "    }\n",
       "\n",
       "    .dataframe tbody tr th {\n",
       "        vertical-align: top;\n",
       "    }\n",
       "\n",
       "    .dataframe thead th {\n",
       "        text-align: right;\n",
       "    }\n",
       "</style>\n",
       "<table border=\"1\" class=\"dataframe\">\n",
       "  <thead>\n",
       "    <tr style=\"text-align: right;\">\n",
       "      <th></th>\n",
       "      <th>revenue</th>\n",
       "      <th>outcalls</th>\n",
       "      <th>incalls</th>\n",
       "      <th>months</th>\n",
       "      <th>eqpdays</th>\n",
       "      <th>webcap</th>\n",
       "      <th>marryyes</th>\n",
       "      <th>travel</th>\n",
       "      <th>pcown</th>\n",
       "      <th>creticd</th>\n",
       "      <th>retcalls</th>\n",
       "      <th>churndep</th>\n",
       "    </tr>\n",
       "  </thead>\n",
       "  <tbody>\n",
       "    <tr>\n",
       "      <th>0</th>\n",
       "      <td>48.82</td>\n",
       "      <td>10.00</td>\n",
       "      <td>3.0</td>\n",
       "      <td>26</td>\n",
       "      <td>780</td>\n",
       "      <td>0</td>\n",
       "      <td>0</td>\n",
       "      <td>0</td>\n",
       "      <td>0</td>\n",
       "      <td>1</td>\n",
       "      <td>4</td>\n",
       "      <td>1</td>\n",
       "    </tr>\n",
       "    <tr>\n",
       "      <th>1</th>\n",
       "      <td>83.53</td>\n",
       "      <td>20.00</td>\n",
       "      <td>1.0</td>\n",
       "      <td>31</td>\n",
       "      <td>745</td>\n",
       "      <td>1</td>\n",
       "      <td>0</td>\n",
       "      <td>0</td>\n",
       "      <td>0</td>\n",
       "      <td>0</td>\n",
       "      <td>4</td>\n",
       "      <td>1</td>\n",
       "    </tr>\n",
       "    <tr>\n",
       "      <th>2</th>\n",
       "      <td>29.99</td>\n",
       "      <td>0.00</td>\n",
       "      <td>0.0</td>\n",
       "      <td>52</td>\n",
       "      <td>1441</td>\n",
       "      <td>0</td>\n",
       "      <td>0</td>\n",
       "      <td>0</td>\n",
       "      <td>1</td>\n",
       "      <td>1</td>\n",
       "      <td>3</td>\n",
       "      <td>1</td>\n",
       "    </tr>\n",
       "    <tr>\n",
       "      <th>3</th>\n",
       "      <td>51.42</td>\n",
       "      <td>0.00</td>\n",
       "      <td>0.0</td>\n",
       "      <td>36</td>\n",
       "      <td>59</td>\n",
       "      <td>1</td>\n",
       "      <td>0</td>\n",
       "      <td>0</td>\n",
       "      <td>0</td>\n",
       "      <td>0</td>\n",
       "      <td>4</td>\n",
       "      <td>1</td>\n",
       "    </tr>\n",
       "    <tr>\n",
       "      <th>4</th>\n",
       "      <td>37.75</td>\n",
       "      <td>2.67</td>\n",
       "      <td>0.0</td>\n",
       "      <td>25</td>\n",
       "      <td>572</td>\n",
       "      <td>0</td>\n",
       "      <td>0</td>\n",
       "      <td>0</td>\n",
       "      <td>1</td>\n",
       "      <td>1</td>\n",
       "      <td>3</td>\n",
       "      <td>1</td>\n",
       "    </tr>\n",
       "  </tbody>\n",
       "</table>\n",
       "</div>"
      ],
      "text/plain": [
       "   revenue  outcalls  incalls  months  eqpdays  webcap  marryyes  travel  \\\n",
       "0    48.82     10.00      3.0      26      780       0         0       0   \n",
       "1    83.53     20.00      1.0      31      745       1         0       0   \n",
       "2    29.99      0.00      0.0      52     1441       0         0       0   \n",
       "3    51.42      0.00      0.0      36       59       1         0       0   \n",
       "4    37.75      2.67      0.0      25      572       0         0       0   \n",
       "\n",
       "   pcown  creticd  retcalls  churndep  \n",
       "0      0        1         4         1  \n",
       "1      0        0         4         1  \n",
       "2      1        1         3         1  \n",
       "3      0        0         4         1  \n",
       "4      1        1         3         1  "
      ]
     },
     "execution_count": 2,
     "metadata": {},
     "output_type": "execute_result"
    }
   ],
   "source": [
    "import pandas as pd\n",
    "import numpy as np\n",
    "import os\n",
    "# load data and prepare for modeling\n",
    "feature_cols = [\"revenue\",\"outcalls\", \"incalls\", \"months\", \"eqpdays\", \"webcap\", \"marryyes\",\"travel\",\"pcown\",\"creticd\",\"retcalls\", \"churndep\"]\n",
    "cwd = os.getcwd()\n",
    "data = pd.read_csv(cwd + '/cell2cell_data.csv', names = feature_cols)\n",
    "print(data.index)\n",
    "data[:5]"
   ]
  },
  {
   "cell_type": "code",
   "execution_count": 3,
   "metadata": {
    "scrolled": false
   },
   "outputs": [
    {
     "name": "stdout",
     "output_type": "stream",
     "text": [
      "Int64Index([ 2331,  6272, 36798, 35010, 27645, 23759, 27427,  8474, 26537,\n",
      "             1632,\n",
      "            ...\n",
      "             8782, 22534, 28645, 15748,  2035,  3999,  8230, 22193, 37291,\n",
      "            15504],\n",
      "           dtype='int64', length=31887)\n"
     ]
    },
    {
     "data": {
      "text/html": [
       "<div>\n",
       "<style scoped>\n",
       "    .dataframe tbody tr th:only-of-type {\n",
       "        vertical-align: middle;\n",
       "    }\n",
       "\n",
       "    .dataframe tbody tr th {\n",
       "        vertical-align: top;\n",
       "    }\n",
       "\n",
       "    .dataframe thead th {\n",
       "        text-align: right;\n",
       "    }\n",
       "</style>\n",
       "<table border=\"1\" class=\"dataframe\">\n",
       "  <thead>\n",
       "    <tr style=\"text-align: right;\">\n",
       "      <th></th>\n",
       "      <th>revenue</th>\n",
       "      <th>outcalls</th>\n",
       "      <th>incalls</th>\n",
       "      <th>months</th>\n",
       "      <th>eqpdays</th>\n",
       "      <th>webcap</th>\n",
       "      <th>marryyes</th>\n",
       "      <th>travel</th>\n",
       "      <th>pcown</th>\n",
       "      <th>creticd</th>\n",
       "      <th>retcalls</th>\n",
       "      <th>churndep</th>\n",
       "    </tr>\n",
       "  </thead>\n",
       "  <tbody>\n",
       "    <tr>\n",
       "      <th>2331</th>\n",
       "      <td>72.75</td>\n",
       "      <td>0.00</td>\n",
       "      <td>0.00</td>\n",
       "      <td>22</td>\n",
       "      <td>663</td>\n",
       "      <td>0</td>\n",
       "      <td>0</td>\n",
       "      <td>0</td>\n",
       "      <td>0</td>\n",
       "      <td>1</td>\n",
       "      <td>0</td>\n",
       "      <td>1</td>\n",
       "    </tr>\n",
       "    <tr>\n",
       "      <th>6272</th>\n",
       "      <td>26.24</td>\n",
       "      <td>1.33</td>\n",
       "      <td>0.00</td>\n",
       "      <td>17</td>\n",
       "      <td>487</td>\n",
       "      <td>1</td>\n",
       "      <td>0</td>\n",
       "      <td>0</td>\n",
       "      <td>0</td>\n",
       "      <td>0</td>\n",
       "      <td>0</td>\n",
       "      <td>1</td>\n",
       "    </tr>\n",
       "    <tr>\n",
       "      <th>36798</th>\n",
       "      <td>93.38</td>\n",
       "      <td>9.33</td>\n",
       "      <td>3.33</td>\n",
       "      <td>20</td>\n",
       "      <td>18</td>\n",
       "      <td>1</td>\n",
       "      <td>0</td>\n",
       "      <td>0</td>\n",
       "      <td>0</td>\n",
       "      <td>0</td>\n",
       "      <td>0</td>\n",
       "      <td>0</td>\n",
       "    </tr>\n",
       "    <tr>\n",
       "      <th>35010</th>\n",
       "      <td>52.07</td>\n",
       "      <td>43.33</td>\n",
       "      <td>10.33</td>\n",
       "      <td>13</td>\n",
       "      <td>212</td>\n",
       "      <td>1</td>\n",
       "      <td>0</td>\n",
       "      <td>0</td>\n",
       "      <td>0</td>\n",
       "      <td>1</td>\n",
       "      <td>0</td>\n",
       "      <td>0</td>\n",
       "    </tr>\n",
       "    <tr>\n",
       "      <th>27645</th>\n",
       "      <td>36.32</td>\n",
       "      <td>7.33</td>\n",
       "      <td>0.67</td>\n",
       "      <td>11</td>\n",
       "      <td>294</td>\n",
       "      <td>1</td>\n",
       "      <td>0</td>\n",
       "      <td>0</td>\n",
       "      <td>0</td>\n",
       "      <td>0</td>\n",
       "      <td>0</td>\n",
       "      <td>0</td>\n",
       "    </tr>\n",
       "  </tbody>\n",
       "</table>\n",
       "</div>"
      ],
      "text/plain": [
       "       revenue  outcalls  incalls  months  eqpdays  webcap  marryyes  travel  \\\n",
       "2331     72.75      0.00     0.00      22      663       0         0       0   \n",
       "6272     26.24      1.33     0.00      17      487       1         0       0   \n",
       "36798    93.38      9.33     3.33      20       18       1         0       0   \n",
       "35010    52.07     43.33    10.33      13      212       1         0       0   \n",
       "27645    36.32      7.33     0.67      11      294       1         0       0   \n",
       "\n",
       "       pcown  creticd  retcalls  churndep  \n",
       "2331       0        1         0         1  \n",
       "6272       0        0         0         1  \n",
       "36798      0        0         0         0  \n",
       "35010      0        1         0         0  \n",
       "27645      0        0         0         0  "
      ]
     },
     "execution_count": 3,
     "metadata": {},
     "output_type": "execute_result"
    }
   ],
   "source": [
    "train_df = data.sample(frac=0.8)\n",
    "print(train_df.index)\n",
    "train_df[:5]"
   ]
  },
  {
   "cell_type": "code",
   "execution_count": 4,
   "metadata": {},
   "outputs": [],
   "source": [
    "x_train = train_df.drop(\"churndep\",axis=1)\n",
    "y_train = train_df.churndep"
   ]
  },
  {
   "cell_type": "code",
   "execution_count": 5,
   "metadata": {},
   "outputs": [
    {
     "name": "stdout",
     "output_type": "stream",
     "text": [
      "Int64Index([    1,     8,    10,    16,    20,    24,    26,    28,    34,\n",
      "               37,\n",
      "            ...\n",
      "            39831, 39833, 39837, 39841, 39845, 39849, 39850, 39851, 39854,\n",
      "            39855],\n",
      "           dtype='int64', length=7972)\n"
     ]
    },
    {
     "data": {
      "text/html": [
       "<div>\n",
       "<style scoped>\n",
       "    .dataframe tbody tr th:only-of-type {\n",
       "        vertical-align: middle;\n",
       "    }\n",
       "\n",
       "    .dataframe tbody tr th {\n",
       "        vertical-align: top;\n",
       "    }\n",
       "\n",
       "    .dataframe thead th {\n",
       "        text-align: right;\n",
       "    }\n",
       "</style>\n",
       "<table border=\"1\" class=\"dataframe\">\n",
       "  <thead>\n",
       "    <tr style=\"text-align: right;\">\n",
       "      <th></th>\n",
       "      <th>revenue</th>\n",
       "      <th>outcalls</th>\n",
       "      <th>incalls</th>\n",
       "      <th>months</th>\n",
       "      <th>eqpdays</th>\n",
       "      <th>webcap</th>\n",
       "      <th>marryyes</th>\n",
       "      <th>travel</th>\n",
       "      <th>pcown</th>\n",
       "      <th>creticd</th>\n",
       "      <th>retcalls</th>\n",
       "      <th>churndep</th>\n",
       "    </tr>\n",
       "  </thead>\n",
       "  <tbody>\n",
       "    <tr>\n",
       "      <th>1</th>\n",
       "      <td>83.53</td>\n",
       "      <td>20.00</td>\n",
       "      <td>1.0</td>\n",
       "      <td>31</td>\n",
       "      <td>745</td>\n",
       "      <td>1</td>\n",
       "      <td>0</td>\n",
       "      <td>0</td>\n",
       "      <td>0</td>\n",
       "      <td>0</td>\n",
       "      <td>4</td>\n",
       "      <td>1</td>\n",
       "    </tr>\n",
       "    <tr>\n",
       "      <th>8</th>\n",
       "      <td>42.71</td>\n",
       "      <td>8.67</td>\n",
       "      <td>0.0</td>\n",
       "      <td>27</td>\n",
       "      <td>224</td>\n",
       "      <td>1</td>\n",
       "      <td>0</td>\n",
       "      <td>0</td>\n",
       "      <td>0</td>\n",
       "      <td>0</td>\n",
       "      <td>3</td>\n",
       "      <td>1</td>\n",
       "    </tr>\n",
       "    <tr>\n",
       "      <th>10</th>\n",
       "      <td>33.66</td>\n",
       "      <td>8.33</td>\n",
       "      <td>0.0</td>\n",
       "      <td>31</td>\n",
       "      <td>933</td>\n",
       "      <td>1</td>\n",
       "      <td>0</td>\n",
       "      <td>0</td>\n",
       "      <td>0</td>\n",
       "      <td>0</td>\n",
       "      <td>2</td>\n",
       "      <td>1</td>\n",
       "    </tr>\n",
       "    <tr>\n",
       "      <th>16</th>\n",
       "      <td>131.09</td>\n",
       "      <td>76.67</td>\n",
       "      <td>7.0</td>\n",
       "      <td>25</td>\n",
       "      <td>740</td>\n",
       "      <td>1</td>\n",
       "      <td>1</td>\n",
       "      <td>0</td>\n",
       "      <td>0</td>\n",
       "      <td>1</td>\n",
       "      <td>2</td>\n",
       "      <td>1</td>\n",
       "    </tr>\n",
       "    <tr>\n",
       "      <th>20</th>\n",
       "      <td>49.16</td>\n",
       "      <td>8.67</td>\n",
       "      <td>0.0</td>\n",
       "      <td>47</td>\n",
       "      <td>1434</td>\n",
       "      <td>0</td>\n",
       "      <td>1</td>\n",
       "      <td>0</td>\n",
       "      <td>0</td>\n",
       "      <td>1</td>\n",
       "      <td>1</td>\n",
       "      <td>1</td>\n",
       "    </tr>\n",
       "  </tbody>\n",
       "</table>\n",
       "</div>"
      ],
      "text/plain": [
       "    revenue  outcalls  incalls  months  eqpdays  webcap  marryyes  travel  \\\n",
       "1     83.53     20.00      1.0      31      745       1         0       0   \n",
       "8     42.71      8.67      0.0      27      224       1         0       0   \n",
       "10    33.66      8.33      0.0      31      933       1         0       0   \n",
       "16   131.09     76.67      7.0      25      740       1         1       0   \n",
       "20    49.16      8.67      0.0      47     1434       0         1       0   \n",
       "\n",
       "    pcown  creticd  retcalls  churndep  \n",
       "1       0        0         4         1  \n",
       "8       0        0         3         1  \n",
       "10      0        0         2         1  \n",
       "16      0        1         2         1  \n",
       "20      0        1         1         1  "
      ]
     },
     "execution_count": 5,
     "metadata": {},
     "output_type": "execute_result"
    }
   ],
   "source": [
    "test_df = data.drop(train_df.index)\n",
    "print(test_df.index)\n",
    "test_df[:5]"
   ]
  },
  {
   "cell_type": "code",
   "execution_count": 6,
   "metadata": {},
   "outputs": [],
   "source": [
    "x_test = test_df.drop(\"churndep\",axis=1)\n",
    "y_test = test_df.churndep"
   ]
  },
  {
   "cell_type": "code",
   "execution_count": 7,
   "metadata": {},
   "outputs": [],
   "source": [
    "# build decision tree classifier to predict churndep\n",
    "from sklearn.tree import DecisionTreeClassifier\n",
    "from sklearn.tree import export_graphviz\n",
    "clf = DecisionTreeClassifier(criterion='entropy')\n",
    "clf = clf.fit(x_train,y_train)"
   ]
  },
  {
   "cell_type": "code",
   "execution_count": 8,
   "metadata": {},
   "outputs": [
    {
     "data": {
      "text/html": [
       "<div>\n",
       "<style scoped>\n",
       "    .dataframe tbody tr th:only-of-type {\n",
       "        vertical-align: middle;\n",
       "    }\n",
       "\n",
       "    .dataframe tbody tr th {\n",
       "        vertical-align: top;\n",
       "    }\n",
       "\n",
       "    .dataframe thead th {\n",
       "        text-align: right;\n",
       "    }\n",
       "</style>\n",
       "<table border=\"1\" class=\"dataframe\">\n",
       "  <thead>\n",
       "    <tr style=\"text-align: right;\">\n",
       "      <th></th>\n",
       "      <th>features</th>\n",
       "      <th>labels</th>\n",
       "    </tr>\n",
       "  </thead>\n",
       "  <tbody>\n",
       "    <tr>\n",
       "      <th>5</th>\n",
       "      <td>0.004416</td>\n",
       "      <td>webcap</td>\n",
       "    </tr>\n",
       "    <tr>\n",
       "      <th>10</th>\n",
       "      <td>0.005148</td>\n",
       "      <td>retcalls</td>\n",
       "    </tr>\n",
       "    <tr>\n",
       "      <th>7</th>\n",
       "      <td>0.010180</td>\n",
       "      <td>travel</td>\n",
       "    </tr>\n",
       "    <tr>\n",
       "      <th>8</th>\n",
       "      <td>0.020605</td>\n",
       "      <td>pcown</td>\n",
       "    </tr>\n",
       "    <tr>\n",
       "      <th>9</th>\n",
       "      <td>0.021161</td>\n",
       "      <td>creticd</td>\n",
       "    </tr>\n",
       "    <tr>\n",
       "      <th>6</th>\n",
       "      <td>0.023962</td>\n",
       "      <td>marryyes</td>\n",
       "    </tr>\n",
       "    <tr>\n",
       "      <th>3</th>\n",
       "      <td>0.092265</td>\n",
       "      <td>months</td>\n",
       "    </tr>\n",
       "    <tr>\n",
       "      <th>2</th>\n",
       "      <td>0.121861</td>\n",
       "      <td>incalls</td>\n",
       "    </tr>\n",
       "    <tr>\n",
       "      <th>1</th>\n",
       "      <td>0.188950</td>\n",
       "      <td>outcalls</td>\n",
       "    </tr>\n",
       "    <tr>\n",
       "      <th>4</th>\n",
       "      <td>0.248959</td>\n",
       "      <td>eqpdays</td>\n",
       "    </tr>\n",
       "    <tr>\n",
       "      <th>0</th>\n",
       "      <td>0.262493</td>\n",
       "      <td>revenue</td>\n",
       "    </tr>\n",
       "  </tbody>\n",
       "</table>\n",
       "</div>"
      ],
      "text/plain": [
       "    features    labels\n",
       "5   0.004416    webcap\n",
       "10  0.005148  retcalls\n",
       "7   0.010180    travel\n",
       "8   0.020605     pcown\n",
       "9   0.021161   creticd\n",
       "6   0.023962  marryyes\n",
       "3   0.092265    months\n",
       "2   0.121861   incalls\n",
       "1   0.188950  outcalls\n",
       "4   0.248959   eqpdays\n",
       "0   0.262493   revenue"
      ]
     },
     "execution_count": 8,
     "metadata": {},
     "output_type": "execute_result"
    }
   ],
   "source": [
    "df = pd.DataFrame()\n",
    "df['features']=clf.feature_importances_\n",
    "df['labels']=train_df.columns.values[:11]\n",
    "df = df.sort_values('features')\n",
    "df"
   ]
  },
  {
   "cell_type": "code",
   "execution_count": 9,
   "metadata": {},
   "outputs": [
    {
     "data": {
      "text/plain": [
       "Text(0, 0.5, 'Normalized Importance')"
      ]
     },
     "execution_count": 9,
     "metadata": {},
     "output_type": "execute_result"
    },
    {
     "data": {
      "image/png": "[encoded data removed]",
      "text/plain": [
       "<Figure size 432x288 with 1 Axes>"
      ]
     },
     "metadata": {
      "needs_background": "light"
     },
     "output_type": "display_data"
    }
   ],
   "source": [
    "import matplotlib.pyplot as plt\n",
    "%matplotlib inline\n",
    "\n",
    "fig, ax = plt.subplots()\n",
    "width = .5\n",
    "ax.bar(df['labels'], df['features'],width,color='r')\n",
    "ax.set_xticks(np.arange(len(clf.feature_importances_)))\n",
    "ax.set_xticklabels(df['labels'],rotation=90)\n",
    "plt.title('Feature Importance')\n",
    "ax.set_ylabel('Normalized Importance')\n"
   ]
  },
  {
   "cell_type": "code",
   "execution_count": 10,
   "metadata": {},
   "outputs": [
    {
     "data": {
      "text/html": [
       "<div>\n",
       "<style scoped>\n",
       "    .dataframe tbody tr th:only-of-type {\n",
       "        vertical-align: middle;\n",
       "    }\n",
       "\n",
       "    .dataframe tbody tr th {\n",
       "        vertical-align: top;\n",
       "    }\n",
       "\n",
       "    .dataframe thead th {\n",
       "        text-align: right;\n",
       "    }\n",
       "</style>\n",
       "<table border=\"1\" class=\"dataframe\">\n",
       "  <thead>\n",
       "    <tr style=\"text-align: right;\">\n",
       "      <th></th>\n",
       "      <th>features</th>\n",
       "      <th>labels</th>\n",
       "    </tr>\n",
       "  </thead>\n",
       "  <tbody>\n",
       "    <tr>\n",
       "      <th>1</th>\n",
       "      <td>0.188950</td>\n",
       "      <td>outcalls</td>\n",
       "    </tr>\n",
       "    <tr>\n",
       "      <th>4</th>\n",
       "      <td>0.248959</td>\n",
       "      <td>eqpdays</td>\n",
       "    </tr>\n",
       "    <tr>\n",
       "      <th>0</th>\n",
       "      <td>0.262493</td>\n",
       "      <td>revenue</td>\n",
       "    </tr>\n",
       "  </tbody>\n",
       "</table>\n",
       "</div>"
      ],
      "text/plain": [
       "   features    labels\n",
       "1  0.188950  outcalls\n",
       "4  0.248959   eqpdays\n",
       "0  0.262493   revenue"
      ]
     },
     "execution_count": 10,
     "metadata": {},
     "output_type": "execute_result"
    }
   ],
   "source": [
    "df[-3:] #top 3 most important features"
   ]
  },
  {
   "cell_type": "code",
   "execution_count": 11,
   "metadata": {},
   "outputs": [
    {
     "data": {
      "text/plain": [
       "revenue    -0.012230\n",
       "outcalls   -0.039009\n",
       "incalls    -0.043556\n",
       "months      0.022121\n",
       "eqpdays     0.112723\n",
       "webcap     -0.064509\n",
       "marryyes   -0.007321\n",
       "travel     -0.001158\n",
       "pcown      -0.002691\n",
       "creticd    -0.011422\n",
       "retcalls    0.067860\n",
       "churndep    1.000000\n",
       "Name: churndep, dtype: float64"
      ]
     },
     "execution_count": 11,
     "metadata": {},
     "output_type": "execute_result"
    }
   ],
   "source": [
    "train_df[train_df.columns[:]].corr()['churndep'][:] #finding correlations of top 3 features"
   ]
  },
  {
   "cell_type": "code",
   "execution_count": 12,
   "metadata": {},
   "outputs": [],
   "source": [
    "from sklearn import metrics"
   ]
  },
  {
   "cell_type": "code",
   "execution_count": 13,
   "metadata": {},
   "outputs": [
    {
     "name": "stdout",
     "output_type": "stream",
     "text": [
      "Accuracy: 0.9998431962868881\n"
     ]
    }
   ],
   "source": [
    "churndep_train = clf.predict(x_train)\n",
    "print(\"Accuracy:\",metrics.accuracy_score(y_train, churndep_train))"
   ]
  },
  {
   "cell_type": "code",
   "execution_count": 14,
   "metadata": {},
   "outputs": [
    {
     "name": "stdout",
     "output_type": "stream",
     "text": [
      "Accuracy: 0.5337431008529855\n"
     ]
    }
   ],
   "source": [
    "churndep_pred = clf.predict(x_test)\n",
    "print(\"Accuracy:\",metrics.accuracy_score(y_test,churndep_pred))"
   ]
  },
  {
   "cell_type": "code",
   "execution_count": 15,
   "metadata": {},
   "outputs": [],
   "source": [
    "min_samples_split_values = None\n",
    "min_samples_leaf_values = None"
   ]
  },
  {
   "cell_type": "code",
   "execution_count": 26,
   "metadata": {},
   "outputs": [
    {
     "data": {
      "text/plain": [
       "[25, 50, 100, 200, 300, 400, 500, 600, 700, 800]"
      ]
     },
     "execution_count": 26,
     "metadata": {},
     "output_type": "execute_result"
    }
   ],
   "source": [
    "min_samples_split_values = [25,50,100,200,300,400,500,600,700,800] #set to max of sqrt of total samples\n",
    "min_samples_split_values"
   ]
  },
  {
   "cell_type": "code",
   "execution_count": 30,
   "metadata": {},
   "outputs": [
    {
     "data": {
      "text/plain": [
       "[0.05, 0.1, 0.15, 0.2, 0.25, 0.4, 0.5, 0.6, 0.7, 0.8]"
      ]
     },
     "execution_count": 30,
     "metadata": {},
     "output_type": "execute_result"
    }
   ],
   "source": [
    "min_samples_leaf_values = [0.05,0.1,0.15,0.2,0.25,0.4,0.5,0.6,0.7,0.8]\n",
    "min_samples_leaf_values"
   ]
  },
  {
   "cell_type": "code",
   "execution_count": 18,
   "metadata": {},
   "outputs": [],
   "source": [
    "import math"
   ]
  },
  {
   "cell_type": "code",
   "execution_count": 32,
   "metadata": {},
   "outputs": [
    {
     "name": "stdout",
     "output_type": "stream",
     "text": [
      "{0.05: [0.5408931259407928, 0.548670346211741, 0.5637230306071249, 0.5815353738083292, 0.5856748620170598, 0.5916959357752133, 0.5918213748118415, 0.5967134972403412, 0.597215253386854, 0.5969643753135976], 0.1: [0.5352483692925238, 0.5440291018564978, 0.5683642749623683, 0.5775213246362267, 0.5866783743100853, 0.5879327646763672, 0.5899397892624184, 0.590316106372303, 0.5913196186653287, 0.5944555945810336], 0.15: [0.5344957350727546, 0.5501756146512795, 0.564350225790266, 0.5801555444054189, 0.5865529352734571, 0.5820371299548419, 0.5844204716507777, 0.5924485699949824, 0.5926994480682388, 0.5930757651781234], 0.2: [0.5367536377320622, 0.5529352734570998, 0.5693677872553938, 0.5836678374310086, 0.5816608128449573, 0.5846713497240341, 0.5849222277972905, 0.5870546914199699, 0.592824887104867, 0.592824887104867], 0.25: [0.5344957350727546, 0.5560712493728048, 0.564350225790266, 0.5819116909182137, 0.5809081786251882, 0.5879327646763672, 0.5852985449071751, 0.5863020572002007, 0.5911941796287005, 0.592824887104867], 0.4: [0.548544907175113, 0.5573256397390868, 0.5682388359257401, 0.578273958855996, 0.5825388861013547, 0.5816608128449573, 0.5863020572002007, 0.5920722528850978, 0.5963371801304566, 0.5962117410938284], 0.5: [0.5584545910687406, 0.553687907676869, 0.5674862017059709, 0.5822880080280983, 0.5837932764676367, 0.5874310085298545, 0.5895634721525339, 0.5885599598595083, 0.5957099849473156, 0.5925740090316106], 0.6: [0.5548168590065228, 0.5539387857501255, 0.5708730556949323, 0.5799046663321625, 0.5844204716507777, 0.5896889111891621, 0.5885599598595083, 0.5950827897641746, 0.5919468138484696, 0.5948319116909182], 0.7: [0.5487957852483693, 0.5612142498745609, 0.578273958855996, 0.5861766181635725, 0.5878073256397391, 0.5901906673356748, 0.5957099849473156, 0.5919468138484696, 0.5948319116909182, 0.5943301555444054], 0.8: [0.5546914199698947, 0.559959859508279, 0.5765178123432012, 0.5847967887606623, 0.5896889111891621, 0.5908178625188159, 0.5925740090316106, 0.5948319116909182, 0.5943301555444054, 0.5909433015554441]}\n"
     ]
    }
   ],
   "source": [
    "# build new classifer, check accuracy on test\n",
    "best_acc = 0\n",
    "res = dict()\n",
    "for i in min_samples_leaf_values:\n",
    "    res[i] = list()\n",
    "for i in min_samples_leaf_values:\n",
    "    for j in min_samples_split_values:\n",
    "        model = DecisionTreeClassifier(criterion = 'entropy', min_samples_split = j, min_samples_leaf = math.ceil(i*j))\n",
    "        model = model.fit(x_train,y_train)\n",
    "        y_pred = model.predict(x_test)\n",
    "        acc = metrics.accuracy_score(y_test,y_pred)\n",
    "        res[i].append(acc)\n",
    "        if acc > best_acc:\n",
    "            best_acc = acc\n",
    "            best_leaf =i\n",
    "            best_split = j\n",
    "print(res)"
   ]
  },
  {
   "cell_type": "code",
   "execution_count": 33,
   "metadata": {},
   "outputs": [
    {
     "data": {
      "text/plain": [
       "Text(0.5, 1.0, 'Accuracy by Decision Tree Parameters')"
      ]
     },
     "execution_count": 33,
     "metadata": {},
     "output_type": "execute_result"
    },
    {
     "data": {
      "image/png": "[encoded data removed]",
      "text/plain": [
       "<Figure size 432x288 with 1 Axes>"
      ]
     },
     "metadata": {
      "needs_background": "light"
     },
     "output_type": "display_data"
    }
   ],
   "source": [
    "import matplotlib.pyplot as plt\n",
    "%matplotlib inline\n",
    "# Code here\n",
    "fig = plt.figure()\n",
    "ax = fig.add_subplot(111)\n",
    "plt.plot(min_samples_split_values,res[min_samples_leaf_values[0]], 'b', label = 'Leaf Size (%Split)={}'.format(min_samples_leaf_values[0]*100))\n",
    "plt.plot(min_samples_split_values,res[min_samples_leaf_values[1]], 'g', label = 'Leaf Size (%Split)={}'.format(min_samples_leaf_values[1]*100))\n",
    "plt.plot(min_samples_split_values,res[min_samples_leaf_values[2]], 'r', label = 'Leaf Size (%Split)={}'.format(min_samples_leaf_values[2]*100))\n",
    "plt.plot(min_samples_split_values,res[min_samples_leaf_values[3]], 'c', label = 'Leaf Size (%Split)={}'.format(min_samples_leaf_values[3]*100))\n",
    "plt.plot(min_samples_split_values,res[min_samples_leaf_values[4]], 'm', label = 'Leaf Size (%Split)={}'.format(min_samples_leaf_values[4]*100))\n",
    "plt.plot(min_samples_split_values,res[min_samples_leaf_values[5]], 'y', label = 'Leaf Size (%Split)={}'.format(min_samples_leaf_values[5]*100))\n",
    "plt.plot(min_samples_split_values,res[min_samples_leaf_values[6]], 'k', label = 'Leaf Size (%Split)={}'.format(min_samples_leaf_values[6]*100))\n",
    "plt.plot(min_samples_split_values,res[min_samples_leaf_values[7]], 'b', label = 'Leaf Size (%Split)={}'.format(min_samples_leaf_values[7]*100))\n",
    "plt.plot(min_samples_split_values,res[min_samples_leaf_values[8]], 'g', label = 'Leaf Size (%Split)={}'.format(min_samples_leaf_values[8]*100))\n",
    "plt.plot(min_samples_split_values,res[min_samples_leaf_values[9]], 'r', label = 'Leaf Size (%Split)={}'.format(min_samples_leaf_values[9]*100))\n",
    "\n",
    "plt.legend(loc =4)\n",
    "ax.set_xlabel('Min Sample Split')\n",
    "ax.set_ylabel('Accuracy')\n",
    "plt.title('Accuracy by Decision Tree Parameters')"
   ]
  },
  {
   "cell_type": "code",
   "execution_count": 34,
   "metadata": {},
   "outputs": [
    {
     "name": "stdout",
     "output_type": "stream",
     "text": [
      "Best Accuracy: 0.597215253386854\n",
      "Optimal min_samples_split: 700\n",
      "Optimal min_samples_leaf: 0.05\n"
     ]
    }
   ],
   "source": [
    "# Code here\n",
    "#Calculations for best accuracy were completed within the for loop in q#3\n",
    "print(\"Best Accuracy:\", best_acc)\n",
    "print(\"Optimal min_samples_split:\",best_split)\n",
    "print(\"Optimal min_samples_leaf:\",best_leaf)"
   ]
  }
 ],
 "metadata": {
  "kernelspec": {
   "display_name": "Python 3",
   "language": "python",
   "name": "python3"
  },
  "language_info": {
   "codemirror_mode": {
    "name": "ipython",
    "version": 3
   },
   "file_extension": ".py",
   "mimetype": "text/x-python",
   "name": "python",
   "nbconvert_exporter": "python",
   "pygments_lexer": "ipython3",
   "version": "3.7.3"
  }
 },
 "nbformat": 4,
 "nbformat_minor": 1
}
