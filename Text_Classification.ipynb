{
 "cells": [
  {
   "cell_type": "code",
   "execution_count": 2,
   "metadata": {},
   "outputs": [
    {
     "data": {
      "text/html": [
       "<div>\n",
       "<style scoped>\n",
       "    .dataframe tbody tr th:only-of-type {\n",
       "        vertical-align: middle;\n",
       "    }\n",
       "\n",
       "    .dataframe tbody tr th {\n",
       "        vertical-align: top;\n",
       "    }\n",
       "\n",
       "    .dataframe thead th {\n",
       "        text-align: right;\n",
       "    }\n",
       "</style>\n",
       "<table border=\"1\" class=\"dataframe\">\n",
       "  <thead>\n",
       "    <tr style=\"text-align: right;\">\n",
       "      <th></th>\n",
       "      <th>Text</th>\n",
       "      <th>Class</th>\n",
       "    </tr>\n",
       "  </thead>\n",
       "  <tbody>\n",
       "    <tr>\n",
       "      <th>0</th>\n",
       "      <td>One of the first of the best musicals Anchors ...</td>\n",
       "      <td>P</td>\n",
       "    </tr>\n",
       "    <tr>\n",
       "      <th>1</th>\n",
       "      <td>Visually disjointed and full of itself the dir...</td>\n",
       "      <td>N</td>\n",
       "    </tr>\n",
       "    <tr>\n",
       "      <th>2</th>\n",
       "      <td>These type of movies about young teenagers str...</td>\n",
       "      <td>P</td>\n",
       "    </tr>\n",
       "    <tr>\n",
       "      <th>3</th>\n",
       "      <td>I would rather of had my eyes gouged out with ...</td>\n",
       "      <td>N</td>\n",
       "    </tr>\n",
       "    <tr>\n",
       "      <th>4</th>\n",
       "      <td>The title says it all. Tail Gunner Joe was a t...</td>\n",
       "      <td>N</td>\n",
       "    </tr>\n",
       "    <tr>\n",
       "      <th>5</th>\n",
       "      <td>There is no greater disservice to do to histor...</td>\n",
       "      <td>P</td>\n",
       "    </tr>\n",
       "    <tr>\n",
       "      <th>6</th>\n",
       "      <td>National Lampoon Goes to the Movies (1981) is ...</td>\n",
       "      <td>N</td>\n",
       "    </tr>\n",
       "    <tr>\n",
       "      <th>7</th>\n",
       "      <td>I rented this on DVD yesterday and did not rea...</td>\n",
       "      <td>N</td>\n",
       "    </tr>\n",
       "    <tr>\n",
       "      <th>8</th>\n",
       "      <td>Midnight Cowboy is one of those films thats be...</td>\n",
       "      <td>P</td>\n",
       "    </tr>\n",
       "    <tr>\n",
       "      <th>9</th>\n",
       "      <td>Its not a big film. The acting is not amazing ...</td>\n",
       "      <td>P</td>\n",
       "    </tr>\n",
       "  </tbody>\n",
       "</table>\n",
       "</div>"
      ],
      "text/plain": [
       "                                                Text Class\n",
       "0  One of the first of the best musicals Anchors ...     P\n",
       "1  Visually disjointed and full of itself the dir...     N\n",
       "2  These type of movies about young teenagers str...     P\n",
       "3  I would rather of had my eyes gouged out with ...     N\n",
       "4  The title says it all. Tail Gunner Joe was a t...     N\n",
       "5  There is no greater disservice to do to histor...     P\n",
       "6  National Lampoon Goes to the Movies (1981) is ...     N\n",
       "7  I rented this on DVD yesterday and did not rea...     N\n",
       "8  Midnight Cowboy is one of those films thats be...     P\n",
       "9  Its not a big film. The acting is not amazing ...     P"
      ]
     },
     "execution_count": 2,
     "metadata": {},
     "output_type": "execute_result"
    }
   ],
   "source": [
    "import pandas as pd\n",
    "data = pd.read_csv(\"imdb.csv\", quotechar=\"'\", escapechar=\"\\\\\")\n",
    "data[:10]"
   ]
  },
  {
   "cell_type": "code",
   "execution_count": 3,
   "metadata": {},
   "outputs": [],
   "source": [
    "import numpy as np\n",
    "data[\"Class\"] = np.where(data['Class'].str.contains(\"P\"), 1, 0)"
   ]
  },
  {
   "cell_type": "code",
   "execution_count": 4,
   "metadata": {},
   "outputs": [
    {
     "data": {
      "text/html": [
       "<div>\n",
       "<style scoped>\n",
       "    .dataframe tbody tr th:only-of-type {\n",
       "        vertical-align: middle;\n",
       "    }\n",
       "\n",
       "    .dataframe tbody tr th {\n",
       "        vertical-align: top;\n",
       "    }\n",
       "\n",
       "    .dataframe thead th {\n",
       "        text-align: right;\n",
       "    }\n",
       "</style>\n",
       "<table border=\"1\" class=\"dataframe\">\n",
       "  <thead>\n",
       "    <tr style=\"text-align: right;\">\n",
       "      <th></th>\n",
       "      <th>Text</th>\n",
       "      <th>Class</th>\n",
       "    </tr>\n",
       "  </thead>\n",
       "  <tbody>\n",
       "    <tr>\n",
       "      <th>0</th>\n",
       "      <td>One of the first of the best musicals Anchors ...</td>\n",
       "      <td>1</td>\n",
       "    </tr>\n",
       "    <tr>\n",
       "      <th>1</th>\n",
       "      <td>Visually disjointed and full of itself the dir...</td>\n",
       "      <td>0</td>\n",
       "    </tr>\n",
       "    <tr>\n",
       "      <th>2</th>\n",
       "      <td>These type of movies about young teenagers str...</td>\n",
       "      <td>1</td>\n",
       "    </tr>\n",
       "    <tr>\n",
       "      <th>3</th>\n",
       "      <td>I would rather of had my eyes gouged out with ...</td>\n",
       "      <td>0</td>\n",
       "    </tr>\n",
       "    <tr>\n",
       "      <th>4</th>\n",
       "      <td>The title says it all. Tail Gunner Joe was a t...</td>\n",
       "      <td>0</td>\n",
       "    </tr>\n",
       "    <tr>\n",
       "      <th>5</th>\n",
       "      <td>There is no greater disservice to do to histor...</td>\n",
       "      <td>1</td>\n",
       "    </tr>\n",
       "    <tr>\n",
       "      <th>6</th>\n",
       "      <td>National Lampoon Goes to the Movies (1981) is ...</td>\n",
       "      <td>0</td>\n",
       "    </tr>\n",
       "    <tr>\n",
       "      <th>7</th>\n",
       "      <td>I rented this on DVD yesterday and did not rea...</td>\n",
       "      <td>0</td>\n",
       "    </tr>\n",
       "    <tr>\n",
       "      <th>8</th>\n",
       "      <td>Midnight Cowboy is one of those films thats be...</td>\n",
       "      <td>1</td>\n",
       "    </tr>\n",
       "    <tr>\n",
       "      <th>9</th>\n",
       "      <td>Its not a big film. The acting is not amazing ...</td>\n",
       "      <td>1</td>\n",
       "    </tr>\n",
       "  </tbody>\n",
       "</table>\n",
       "</div>"
      ],
      "text/plain": [
       "                                                Text  Class\n",
       "0  One of the first of the best musicals Anchors ...      1\n",
       "1  Visually disjointed and full of itself the dir...      0\n",
       "2  These type of movies about young teenagers str...      1\n",
       "3  I would rather of had my eyes gouged out with ...      0\n",
       "4  The title says it all. Tail Gunner Joe was a t...      0\n",
       "5  There is no greater disservice to do to histor...      1\n",
       "6  National Lampoon Goes to the Movies (1981) is ...      0\n",
       "7  I rented this on DVD yesterday and did not rea...      0\n",
       "8  Midnight Cowboy is one of those films thats be...      1\n",
       "9  Its not a big film. The acting is not amazing ...      1"
      ]
     },
     "execution_count": 4,
     "metadata": {},
     "output_type": "execute_result"
    }
   ],
   "source": [
    "data[:10]"
   ]
  },
  {
   "cell_type": "code",
   "execution_count": 5,
   "metadata": {},
   "outputs": [
    {
     "data": {
      "text/html": [
       "<div>\n",
       "<style scoped>\n",
       "    .dataframe tbody tr th:only-of-type {\n",
       "        vertical-align: middle;\n",
       "    }\n",
       "\n",
       "    .dataframe tbody tr th {\n",
       "        vertical-align: top;\n",
       "    }\n",
       "\n",
       "    .dataframe thead th {\n",
       "        text-align: right;\n",
       "    }\n",
       "</style>\n",
       "<table border=\"1\" class=\"dataframe\">\n",
       "  <thead>\n",
       "    <tr style=\"text-align: right;\">\n",
       "      <th></th>\n",
       "      <th>Text</th>\n",
       "      <th>Class</th>\n",
       "    </tr>\n",
       "  </thead>\n",
       "  <tbody>\n",
       "    <tr>\n",
       "      <th>1911</th>\n",
       "      <td>Not sure if Im referring to those who labeled ...</td>\n",
       "      <td>0</td>\n",
       "    </tr>\n",
       "    <tr>\n",
       "      <th>7887</th>\n",
       "      <td>Why did I waste 1.5 hours of my life watching ...</td>\n",
       "      <td>0</td>\n",
       "    </tr>\n",
       "    <tr>\n",
       "      <th>603</th>\n",
       "      <td>I rented this movie from blockbuster on a whim...</td>\n",
       "      <td>1</td>\n",
       "    </tr>\n",
       "    <tr>\n",
       "      <th>7297</th>\n",
       "      <td>This hard-hitting often violent western in the...</td>\n",
       "      <td>1</td>\n",
       "    </tr>\n",
       "    <tr>\n",
       "      <th>7289</th>\n",
       "      <td>The fact that someone actually spent money on ...</td>\n",
       "      <td>0</td>\n",
       "    </tr>\n",
       "    <tr>\n",
       "      <th>5261</th>\n",
       "      <td>Margret Laurence probably didnt intend on havi...</td>\n",
       "      <td>0</td>\n",
       "    </tr>\n",
       "    <tr>\n",
       "      <th>5496</th>\n",
       "      <td>Warning: Does contain spoilers. Open Your Eyes...</td>\n",
       "      <td>1</td>\n",
       "    </tr>\n",
       "    <tr>\n",
       "      <th>4093</th>\n",
       "      <td>Just a note to add to the above comment. Fear ...</td>\n",
       "      <td>1</td>\n",
       "    </tr>\n",
       "    <tr>\n",
       "      <th>494</th>\n",
       "      <td>E! TV is a great channel and Talk Soup is so f...</td>\n",
       "      <td>1</td>\n",
       "    </tr>\n",
       "    <tr>\n",
       "      <th>5586</th>\n",
       "      <td>Nay Sayers of this film are likely bitter from...</td>\n",
       "      <td>1</td>\n",
       "    </tr>\n",
       "  </tbody>\n",
       "</table>\n",
       "</div>"
      ],
      "text/plain": [
       "                                                   Text  Class\n",
       "1911  Not sure if Im referring to those who labeled ...      0\n",
       "7887  Why did I waste 1.5 hours of my life watching ...      0\n",
       "603   I rented this movie from blockbuster on a whim...      1\n",
       "7297  This hard-hitting often violent western in the...      1\n",
       "7289  The fact that someone actually spent money on ...      0\n",
       "5261  Margret Laurence probably didnt intend on havi...      0\n",
       "5496  Warning: Does contain spoilers. Open Your Eyes...      1\n",
       "4093  Just a note to add to the above comment. Fear ...      1\n",
       "494   E! TV is a great channel and Talk Soup is so f...      1\n",
       "5586  Nay Sayers of this film are likely bitter from...      1"
      ]
     },
     "execution_count": 5,
     "metadata": {},
     "output_type": "execute_result"
    }
   ],
   "source": [
    "train_data = data.sample(frac=0.75)\n",
    "train_data[:10]"
   ]
  },
  {
   "cell_type": "code",
   "execution_count": 6,
   "metadata": {},
   "outputs": [
    {
     "data": {
      "text/html": [
       "<div>\n",
       "<style scoped>\n",
       "    .dataframe tbody tr th:only-of-type {\n",
       "        vertical-align: middle;\n",
       "    }\n",
       "\n",
       "    .dataframe tbody tr th {\n",
       "        vertical-align: top;\n",
       "    }\n",
       "\n",
       "    .dataframe thead th {\n",
       "        text-align: right;\n",
       "    }\n",
       "</style>\n",
       "<table border=\"1\" class=\"dataframe\">\n",
       "  <thead>\n",
       "    <tr style=\"text-align: right;\">\n",
       "      <th></th>\n",
       "      <th>Text</th>\n",
       "      <th>Class</th>\n",
       "    </tr>\n",
       "  </thead>\n",
       "  <tbody>\n",
       "    <tr>\n",
       "      <th>5</th>\n",
       "      <td>There is no greater disservice to do to histor...</td>\n",
       "      <td>1</td>\n",
       "    </tr>\n",
       "    <tr>\n",
       "      <th>9</th>\n",
       "      <td>Its not a big film. The acting is not amazing ...</td>\n",
       "      <td>1</td>\n",
       "    </tr>\n",
       "    <tr>\n",
       "      <th>13</th>\n",
       "      <td>Imagine the scenario - you are at the movie th...</td>\n",
       "      <td>0</td>\n",
       "    </tr>\n",
       "    <tr>\n",
       "      <th>17</th>\n",
       "      <td>Near the beginning after its been established ...</td>\n",
       "      <td>0</td>\n",
       "    </tr>\n",
       "    <tr>\n",
       "      <th>19</th>\n",
       "      <td>OK this movie was cool. I dont think it was th...</td>\n",
       "      <td>1</td>\n",
       "    </tr>\n",
       "    <tr>\n",
       "      <th>22</th>\n",
       "      <td>this move was friggin hilarious!!! funniest Iv...</td>\n",
       "      <td>1</td>\n",
       "    </tr>\n",
       "    <tr>\n",
       "      <th>24</th>\n",
       "      <td>CREEP is a straight up serious horror film set...</td>\n",
       "      <td>1</td>\n",
       "    </tr>\n",
       "    <tr>\n",
       "      <th>27</th>\n",
       "      <td>A surprisingly good movie! It has quite a few ...</td>\n",
       "      <td>1</td>\n",
       "    </tr>\n",
       "    <tr>\n",
       "      <th>28</th>\n",
       "      <td>Another too bad the lowest they can go here is...</td>\n",
       "      <td>0</td>\n",
       "    </tr>\n",
       "    <tr>\n",
       "      <th>32</th>\n",
       "      <td>This is definitely the worst bigfoot movie Ive...</td>\n",
       "      <td>0</td>\n",
       "    </tr>\n",
       "  </tbody>\n",
       "</table>\n",
       "</div>"
      ],
      "text/plain": [
       "                                                 Text  Class\n",
       "5   There is no greater disservice to do to histor...      1\n",
       "9   Its not a big film. The acting is not amazing ...      1\n",
       "13  Imagine the scenario - you are at the movie th...      0\n",
       "17  Near the beginning after its been established ...      0\n",
       "19  OK this movie was cool. I dont think it was th...      1\n",
       "22  this move was friggin hilarious!!! funniest Iv...      1\n",
       "24  CREEP is a straight up serious horror film set...      1\n",
       "27  A surprisingly good movie! It has quite a few ...      1\n",
       "28  Another too bad the lowest they can go here is...      0\n",
       "32  This is definitely the worst bigfoot movie Ive...      0"
      ]
     },
     "execution_count": 6,
     "metadata": {},
     "output_type": "execute_result"
    }
   ],
   "source": [
    "test_data = data.drop(train_data.index)\n",
    "test_data[:10]"
   ]
  },
  {
   "cell_type": "code",
   "execution_count": 7,
   "metadata": {},
   "outputs": [
    {
     "data": {
      "text/plain": [
       "1911    Not sure if Im referring to those who labeled ...\n",
       "7887    Why did I waste 1.5 hours of my life watching ...\n",
       "603     I rented this movie from blockbuster on a whim...\n",
       "7297    This hard-hitting often violent western in the...\n",
       "7289    The fact that someone actually spent money on ...\n",
       "5261    Margret Laurence probably didnt intend on havi...\n",
       "5496    Warning: Does contain spoilers. Open Your Eyes...\n",
       "4093    Just a note to add to the above comment. Fear ...\n",
       "494     E! TV is a great channel and Talk Soup is so f...\n",
       "5586    Nay Sayers of this film are likely bitter from...\n",
       "Name: Text, dtype: object"
      ]
     },
     "execution_count": 7,
     "metadata": {},
     "output_type": "execute_result"
    }
   ],
   "source": [
    "X_train = train_data[\"Text\"]\n",
    "X_train[:10]"
   ]
  },
  {
   "cell_type": "code",
   "execution_count": 8,
   "metadata": {},
   "outputs": [
    {
     "data": {
      "text/plain": [
       "1911    0\n",
       "7887    0\n",
       "603     1\n",
       "7297    1\n",
       "7289    0\n",
       "5261    0\n",
       "5496    1\n",
       "4093    1\n",
       "494     1\n",
       "5586    1\n",
       "Name: Class, dtype: int64"
      ]
     },
     "execution_count": 8,
     "metadata": {},
     "output_type": "execute_result"
    }
   ],
   "source": [
    "Y_train = train_data[\"Class\"]\n",
    "Y_train[:10]"
   ]
  },
  {
   "cell_type": "code",
   "execution_count": 9,
   "metadata": {},
   "outputs": [
    {
     "data": {
      "text/plain": [
       "5     There is no greater disservice to do to histor...\n",
       "9     Its not a big film. The acting is not amazing ...\n",
       "13    Imagine the scenario - you are at the movie th...\n",
       "17    Near the beginning after its been established ...\n",
       "19    OK this movie was cool. I dont think it was th...\n",
       "22    this move was friggin hilarious!!! funniest Iv...\n",
       "24    CREEP is a straight up serious horror film set...\n",
       "27    A surprisingly good movie! It has quite a few ...\n",
       "28    Another too bad the lowest they can go here is...\n",
       "32    This is definitely the worst bigfoot movie Ive...\n",
       "Name: Text, dtype: object"
      ]
     },
     "execution_count": 9,
     "metadata": {},
     "output_type": "execute_result"
    }
   ],
   "source": [
    "X_test = test_data[\"Text\"]\n",
    "X_test[:10]"
   ]
  },
  {
   "cell_type": "code",
   "execution_count": 10,
   "metadata": {},
   "outputs": [
    {
     "data": {
      "text/plain": [
       "5     1\n",
       "9     1\n",
       "13    0\n",
       "17    0\n",
       "19    1\n",
       "22    1\n",
       "24    1\n",
       "27    1\n",
       "28    0\n",
       "32    0\n",
       "Name: Class, dtype: int64"
      ]
     },
     "execution_count": 10,
     "metadata": {},
     "output_type": "execute_result"
    }
   ],
   "source": [
    "Y_test = test_data[\"Class\"]\n",
    "Y_test[:10]"
   ]
  },
  {
   "cell_type": "code",
   "execution_count": 11,
   "metadata": {},
   "outputs": [
    {
     "data": {
      "text/plain": [
       "['sure',\n",
       " 'im',\n",
       " 'referring',\n",
       " 'labeled',\n",
       " 'video',\n",
       " 'nasty',\n",
       " 'director',\n",
       " 'devil',\n",
       " 'hunter',\n",
       " 'bizarre']"
      ]
     },
     "execution_count": 11,
     "metadata": {},
     "output_type": "execute_result"
    }
   ],
   "source": [
    "from sklearn.feature_extraction.text import CountVectorizer\n",
    "from sklearn.feature_extraction.text import TfidfVectorizer\n",
    "\n",
    "#create binary CountVectorizer \n",
    "count_vectorizer = CountVectorizer(binary=True, stop_words = 'english') #keeps track of each word in doc\n",
    "count_vectorizer.fit(X_train) #perform only on training data\n",
    "list(count_vectorizer.vocabulary_.keys())[0:10]"
   ]
  },
  {
   "cell_type": "code",
   "execution_count": 12,
   "metadata": {},
   "outputs": [],
   "source": [
    "#transform train & test sets of count vectorizer\n",
    "X_train_count = count_vectorizer.transform(X_train)\n",
    "X_test_count = count_vectorizer.transform(X_test)"
   ]
  },
  {
   "cell_type": "code",
   "execution_count": 13,
   "metadata": {},
   "outputs": [
    {
     "data": {
      "text/plain": [
       "TfidfVectorizer(analyzer='word', binary=True, decode_error='strict',\n",
       "                dtype=<class 'numpy.float64'>, encoding='utf-8',\n",
       "                input='content', lowercase=True, max_df=1.0, max_features=None,\n",
       "                min_df=1, ngram_range=(1, 1), norm='l2', preprocessor=None,\n",
       "                smooth_idf=True, stop_words='english', strip_accents=None,\n",
       "                sublinear_tf=False, token_pattern='(?u)\\\\b\\\\w\\\\w+\\\\b',\n",
       "                tokenizer=None, use_idf=True, vocabulary=None)"
      ]
     },
     "execution_count": 13,
     "metadata": {},
     "output_type": "execute_result"
    }
   ],
   "source": [
    "#create binary TfidVectorizer\n",
    "tfidf_vectorizer = TfidfVectorizer(binary = True, stop_words = 'english')\n",
    "tfidf_vectorizer.fit(X_train)"
   ]
  },
  {
   "cell_type": "code",
   "execution_count": 14,
   "metadata": {},
   "outputs": [],
   "source": [
    "#transform train & test sets of Tfid vectorizer\n",
    "X_train_tfidf = tfidf_vectorizer.transform(X_train)\n",
    "X_test_tfidf = tfidf_vectorizer.transform(X_test)"
   ]
  },
  {
   "cell_type": "code",
   "execution_count": 15,
   "metadata": {},
   "outputs": [],
   "source": [
    "# Run this so your plots show properly\n",
    "import matplotlib.pyplot as plt\n",
    "%matplotlib inline\n",
    "plt.rcParams['figure.figsize'] = 12, 12"
   ]
  },
  {
   "cell_type": "code",
   "execution_count": 16,
   "metadata": {},
   "outputs": [],
   "source": [
    "from sklearn.linear_model import LogisticRegression\n",
    "from sklearn.naive_bayes import BernoulliNB\n",
    "from sklearn import metrics\n",
    "import warnings\n",
    "warnings.filterwarnings('ignore')\n",
    "\n",
    "fprs = []\n",
    "tprs = []\n",
    "auc_labels = []\n",
    "\n",
    "#create log reg and bernoulli models for count vect\n",
    "lr_count = LogisticRegression()\n",
    "lr_count.fit(X_train_count, Y_train)\n",
    "fpr, tpr, thresholds = metrics.roc_curve(Y_test, lr_count.predict_proba(X_test_count)[:,1])\n",
    "fprs.append(fpr)\n",
    "tprs.append(tpr)\n",
    "auc = metrics.roc_auc_score(Y_test, lr_count.predict_proba(X_test_count)[:,1])\n",
    "auc_labels.append(\"Count (Log Reg), auc: \"+str(round(auc,4)))\n",
    "\n",
    "bern_count = BernoulliNB()\n",
    "bern_count.fit(X_train_count, Y_train)\n",
    "fpr, tpr, thresholds = metrics.roc_curve(Y_test, bern_count.predict_proba(X_test_count)[:,1])\n",
    "fprs.append(fpr)\n",
    "tprs.append(tpr)\n",
    "auc = metrics.roc_auc_score(Y_test, bern_count.predict_proba(X_test_count)[:,1])\n",
    "auc_labels.append(\"Count (Bernoulli), auc: \"+str(round(auc,4)))\n",
    "\n",
    "\n",
    "#create log reg and bernoulli models for tfidf\n",
    "lr_tfidf = LogisticRegression()\n",
    "lr_tfidf.fit(X_train_tfidf, Y_train)\n",
    "fpr, tpr, thresholds = metrics.roc_curve(Y_test, lr_tfidf.predict_proba(X_test_tfidf)[:,1])\n",
    "fprs.append(fpr)\n",
    "tprs.append(tpr)\n",
    "auc = metrics.roc_auc_score(Y_test, lr_tfidf.predict_proba(X_test_tfidf)[:,1])\n",
    "auc_labels.append(\"TFIDF (Log Reg), auc: \"+str(round(auc,4)))\n",
    "\n",
    "bern_tfidf = BernoulliNB()\n",
    "bern_tfidf.fit(X_train_tfidf, Y_train)\n",
    "fpr, tpr, thresholds = metrics.roc_curve(Y_test, bern_tfidf.predict_proba(X_test_tfidf)[:,1])\n",
    "fprs.append(fpr)\n",
    "tprs.append(tpr)\n",
    "auc = metrics.roc_auc_score(Y_test, bern_tfidf.predict_proba(X_test_tfidf)[:,1])\n",
    "auc_labels.append(\"TFIDF (Bernoulli), auc: \"+str(round(auc,4)))"
   ]
  },
  {
   "cell_type": "code",
   "execution_count": 17,
   "metadata": {},
   "outputs": [
    {
     "data": {
      "image/png": "[encoded data removed]",
      "text/plain": [
       "<Figure size 864x864 with 1 Axes>"
      ]
     },
     "metadata": {
      "needs_background": "light"
     },
     "output_type": "display_data"
    }
   ],
   "source": [
    "for fpr, tpr, auc_label in zip(fprs, tprs, auc_labels):\n",
    "    plt.plot(fpr, tpr, label=auc_label)\n",
    "\n",
    "plt.xlabel(\"fpr\")\n",
    "plt.ylabel(\"tpr\")\n",
    "plt.title(\"ROC Curves\")\n",
    "plt.legend(loc = 4)\n",
    "plt.xlim(0,1)\n",
    "plt.ylim(0.5,1)\n",
    "plt.show()"
   ]
  },
  {
   "cell_type": "code",
   "execution_count": 28,
   "metadata": {},
   "outputs": [
    {
     "data": {
      "text/html": [
       "<div>\n",
       "<style scoped>\n",
       "    .dataframe tbody tr th:only-of-type {\n",
       "        vertical-align: middle;\n",
       "    }\n",
       "\n",
       "    .dataframe tbody tr th {\n",
       "        vertical-align: top;\n",
       "    }\n",
       "\n",
       "    .dataframe thead th {\n",
       "        text-align: right;\n",
       "    }\n",
       "</style>\n",
       "<table border=\"1\" class=\"dataframe\">\n",
       "  <thead>\n",
       "    <tr style=\"text-align: right;\">\n",
       "      <th></th>\n",
       "      <th>Text</th>\n",
       "      <th>Class</th>\n",
       "      <th>Predicted</th>\n",
       "    </tr>\n",
       "  </thead>\n",
       "  <tbody>\n",
       "    <tr>\n",
       "      <th>5</th>\n",
       "      <td>There is no greater disservice to do to history than to misrepresent it. This takes the easiest and most shallow route simply portraying him as a monster. Only showing his negative sides and exaggerating them. Those who are ignorant of the past doom us to repeat it. He was a human being. That may prove tough to some people to accept but an important part of life is facing that which we dont want to. Rather than demonizing the man we ought to try to understand him. Otherwise we stand little chance of preventing anyone similar in the future or possibly even the present from succeeding at anything of remotely comparable scope as far as damage and misery goes. Hate him and what he did dont make him into something mythical intentionally or otherwise. Frankly far too much of this mini-series could play dumb dumb *duuum*! after or during scenes. The whole thing nods nudges and winks at the audience with a clear message of was this guy evil or what incorporating every single bad trait(as well as making up several that go directly against who and what he was) letting them appear more or less out of nowhere and having them be constant throughout his life not something he came to believe or claimed to. This should never be used to educate. Use Der Untergang(Downfall in English) and maybe point out the few inaccuracies of that instead. This this is disrespectful to the actual events that took place and to any and all survivors not to mention those who died. The cinematic quality? Top-notch. Its well-done through and through excellent production values a solid arc to the well-told plot what characterization does occur is strong and credible dialog and script are great all acting performances are masterful(Carlyle looks and behaves the role... as it was written... perfectly) the music is well-composed cinematography and editing are flawless and creative and this is definitely dramatic entertaining and riveting. They get dates and many occurrences and do them justice. If I had been offered to work on this and did not feel I could be objective enough to have Hitler appear as a fully fleshed-out person I would have declined citing that as the reason. I dont blame anyone for loathing him. How can you forgive what he did and are we sure that we should? That is not what I am suggesting. Finally let me point out that as I write this we are in a world-wide economic crisis that has lasted for about two years and that is not terribly dissimilar to the stock market crash of 1929. The two reasons it hasnt led to a depression of the new millennium are as follows: governments are giving money to the banks to keep the market going and the majority of the countries is now friendly towards one another. Apart from that the lesson hadnt been learned. Hopefully it has now. Back to this... my suggestion? Read a book non-fiction dealing with the subject. There are plenty of informative smart ones. The DVD holds a trailer. I recommend this only to those who know better and vehemently urge anyone who has watched it to seek out the truth. 8/10</td>\n",
       "      <td>1</td>\n",
       "      <td>1</td>\n",
       "    </tr>\n",
       "    <tr>\n",
       "      <th>9</th>\n",
       "      <td>Its not a big film. The acting is not amazing (some sub charterers are even played badly) The film is not beautiful in any sense. Nothing really inventive or new. If you like big films this one is not for you. yet it has a big - REALLY BIG plus on the story. Larrys story works because we know this story from our own lives. The girl we didnt ask to a date the test weve failed the friend we let down are all in our history. This movie works because it touch it Its a great story because its a small one. Its the life we all have with regrets we all have and yet the message hits: every life we could have lived would have had their downside. The first time I watched it I was 15. It was shown in a party at my school. 16 years later I keep reflecting on it every once in a while and every time I see it it puts a smile on my face. Watch it. It will do you good. Youll be happier with what you have.</td>\n",
       "      <td>1</td>\n",
       "      <td>1</td>\n",
       "    </tr>\n",
       "    <tr>\n",
       "      <th>13</th>\n",
       "      <td>Imagine the scenario - you are at the movie theater only because you are in Washington for the weekend and its raining and youre finished with the Museums. You think you might go see the Sarah Marshall movie as the trailer look so so and you dont have to engage your brain. Its sold out. Options? - The Bank Job In Bruges The Leatherheads or Prom night. Youve seen the Bank Job (suprisingly decent heist movie that) and In Bruges (again pretty good) so youre down to two. You dont fancy watching Clooney or the nice one from the Office run around in 1930 football uniforms so you go see Prom Night right? Wrong. You take the $8.50 walk up to a stranger in the street and ask him to punch you in the face for $8.50. It would be money better spent. It actually plays like more of a comedy than a horror/thriller or whatever it is supposed to be. If I was financing that movie and they showed me that as a final cut I wouldnt know whether to laugh or cry. Probably both. An insult to anyones intelligence... my roommate was laughing out loud most of the movie as for the acting they might as well have cast robots (or maybe dogs) in the roles they would have been more realistic. The detective has to be possibly the worst actor I have ever seen (Ben Affleck and Hayden Christansan (I hate his acting so much I dont care how you spell his name) you are relieved on your title(s))  So in summary not good</td>\n",
       "      <td>0</td>\n",
       "      <td>0</td>\n",
       "    </tr>\n",
       "    <tr>\n",
       "      <th>17</th>\n",
       "      <td>Near the beginning after its been established that outlaw John Dillinger (Warren Oates) is an egomaniacal rapist another bandit of the 1930s is cornered in a farm house and surrounded by the FBI. Second-in-command Melvin Purvis (Ben Johnson) surveys the situations sticks a lighted cigar in his mouth picks up two loaded .45-caliber automatics and stalks off into the distant house alone. Bang bang bang. Purvis emerges alone from the house carrying the female hostage the miscreant dead. All in long shot. If youre enthralled by stories like Red Riding Hood this should have considerable appeal. Oh its as exciting as it is mindless. Pretty Boy Floyd meets his demise dramatically. Multiple violations of the civic code. Plenty of shoot outs with Tommy guns and pistols. Blood all over. As history it stinks. Few remember Melvin Purvis as an FBI hero partly I would guess because of his name. Melvin PURVIS? We all remember J. Edgar Hoover who fired Melvin Purvis because he was a rival in the quest for public attention though. The picture was written and directed by John Milius. Hes the guy who had it written into his contract that should any animals be shot and killed in the course of one of his productions he should be the designated shooter. Milius is the guy a compleat gun freak who had Teddy Roosevelts Rough Riders in the Spanish-American war shouting quotations from Henry V -- Saint Crispins Day and all that. Exciting yes and complete garbage. I knew Id never take him alive and I didnt try too hard neither. That is kill em all and let God sort them out. Youll just love it.</td>\n",
       "      <td>0</td>\n",
       "      <td>0</td>\n",
       "    </tr>\n",
       "    <tr>\n",
       "      <th>19</th>\n",
       "      <td>OK this movie was cool. I dont think it was the best movie ever made but it sure was fun. My brother and I still act out scenes once in a while and will occasionally yank the movie out of the cupboard blow off the dust and pop it in. Enjoyable all the way until the end but a great concept. This is a movie that one has to just forget criticism all together and just enjoy. Judgment is victory for Robot Jox.</td>\n",
       "      <td>1</td>\n",
       "      <td>1</td>\n",
       "    </tr>\n",
       "  </tbody>\n",
       "</table>\n",
       "</div>"
      ],
      "text/plain": [
       "                                                                                                                                                                                                                                                                                                                                                                                                                                                                                                                                                                                                                                                                                                                                                                                                                                                                                                                                                                                                                                                                                                                                                                                                                                                                                                                                                                                                                                                                                                                                                                                                                                                                                                                                                                                                                                                                                                                                                                                                                                                                                                                                                                                                                                                                                                                                                                                                                                                                                                                                                                                                                                                                                                                                                                                                                                                                                                                                                                                                                                                                                                                                                                                    Text  \\\n",
       "5   There is no greater disservice to do to history than to misrepresent it. This takes the easiest and most shallow route simply portraying him as a monster. Only showing his negative sides and exaggerating them. Those who are ignorant of the past doom us to repeat it. He was a human being. That may prove tough to some people to accept but an important part of life is facing that which we dont want to. Rather than demonizing the man we ought to try to understand him. Otherwise we stand little chance of preventing anyone similar in the future or possibly even the present from succeeding at anything of remotely comparable scope as far as damage and misery goes. Hate him and what he did dont make him into something mythical intentionally or otherwise. Frankly far too much of this mini-series could play dumb dumb *duuum*! after or during scenes. The whole thing nods nudges and winks at the audience with a clear message of was this guy evil or what incorporating every single bad trait(as well as making up several that go directly against who and what he was) letting them appear more or less out of nowhere and having them be constant throughout his life not something he came to believe or claimed to. This should never be used to educate. Use Der Untergang(Downfall in English) and maybe point out the few inaccuracies of that instead. This this is disrespectful to the actual events that took place and to any and all survivors not to mention those who died. The cinematic quality? Top-notch. Its well-done through and through excellent production values a solid arc to the well-told plot what characterization does occur is strong and credible dialog and script are great all acting performances are masterful(Carlyle looks and behaves the role... as it was written... perfectly) the music is well-composed cinematography and editing are flawless and creative and this is definitely dramatic entertaining and riveting. They get dates and many occurrences and do them justice. If I had been offered to work on this and did not feel I could be objective enough to have Hitler appear as a fully fleshed-out person I would have declined citing that as the reason. I dont blame anyone for loathing him. How can you forgive what he did and are we sure that we should? That is not what I am suggesting. Finally let me point out that as I write this we are in a world-wide economic crisis that has lasted for about two years and that is not terribly dissimilar to the stock market crash of 1929. The two reasons it hasnt led to a depression of the new millennium are as follows: governments are giving money to the banks to keep the market going and the majority of the countries is now friendly towards one another. Apart from that the lesson hadnt been learned. Hopefully it has now. Back to this... my suggestion? Read a book non-fiction dealing with the subject. There are plenty of informative smart ones. The DVD holds a trailer. I recommend this only to those who know better and vehemently urge anyone who has watched it to seek out the truth. 8/10   \n",
       "9   Its not a big film. The acting is not amazing (some sub charterers are even played badly) The film is not beautiful in any sense. Nothing really inventive or new. If you like big films this one is not for you. yet it has a big - REALLY BIG plus on the story. Larrys story works because we know this story from our own lives. The girl we didnt ask to a date the test weve failed the friend we let down are all in our history. This movie works because it touch it Its a great story because its a small one. Its the life we all have with regrets we all have and yet the message hits: every life we could have lived would have had their downside. The first time I watched it I was 15. It was shown in a party at my school. 16 years later I keep reflecting on it every once in a while and every time I see it it puts a smile on my face. Watch it. It will do you good. Youll be happier with what you have.                                                                                                                                                                                                                                                                                                                                                                                                                                                                                                                                                                                                                                                                                                                                                                                                                                                                                                                                                                                                                                                                                                                                                                                                                                                                                                                                                                                                                                                                                                                                                                                                                                                                                                                                                                                                                                                                                                                                                                                                                                                                                                                                                                                                                                                    \n",
       "13  Imagine the scenario - you are at the movie theater only because you are in Washington for the weekend and its raining and youre finished with the Museums. You think you might go see the Sarah Marshall movie as the trailer look so so and you dont have to engage your brain. Its sold out. Options? - The Bank Job In Bruges The Leatherheads or Prom night. Youve seen the Bank Job (suprisingly decent heist movie that) and In Bruges (again pretty good) so youre down to two. You dont fancy watching Clooney or the nice one from the Office run around in 1930 football uniforms so you go see Prom Night right? Wrong. You take the $8.50 walk up to a stranger in the street and ask him to punch you in the face for $8.50. It would be money better spent. It actually plays like more of a comedy than a horror/thriller or whatever it is supposed to be. If I was financing that movie and they showed me that as a final cut I wouldnt know whether to laugh or cry. Probably both. An insult to anyones intelligence... my roommate was laughing out loud most of the movie as for the acting they might as well have cast robots (or maybe dogs) in the roles they would have been more realistic. The detective has to be possibly the worst actor I have ever seen (Ben Affleck and Hayden Christansan (I hate his acting so much I dont care how you spell his name) you are relieved on your title(s))  So in summary not good                                                                                                                                                                                                                                                                                                                                                                                                                                                                                                                                                                                                                                                                                                                                                                                                                                                                                                                                                                                                                                                                                                                                                                                                                                                                                                                                                                                                                                                                                                                                                                                                                                                                                                                               \n",
       "17  Near the beginning after its been established that outlaw John Dillinger (Warren Oates) is an egomaniacal rapist another bandit of the 1930s is cornered in a farm house and surrounded by the FBI. Second-in-command Melvin Purvis (Ben Johnson) surveys the situations sticks a lighted cigar in his mouth picks up two loaded .45-caliber automatics and stalks off into the distant house alone. Bang bang bang. Purvis emerges alone from the house carrying the female hostage the miscreant dead. All in long shot. If youre enthralled by stories like Red Riding Hood this should have considerable appeal. Oh its as exciting as it is mindless. Pretty Boy Floyd meets his demise dramatically. Multiple violations of the civic code. Plenty of shoot outs with Tommy guns and pistols. Blood all over. As history it stinks. Few remember Melvin Purvis as an FBI hero partly I would guess because of his name. Melvin PURVIS? We all remember J. Edgar Hoover who fired Melvin Purvis because he was a rival in the quest for public attention though. The picture was written and directed by John Milius. Hes the guy who had it written into his contract that should any animals be shot and killed in the course of one of his productions he should be the designated shooter. Milius is the guy a compleat gun freak who had Teddy Roosevelts Rough Riders in the Spanish-American war shouting quotations from Henry V -- Saint Crispins Day and all that. Exciting yes and complete garbage. I knew Id never take him alive and I didnt try too hard neither. That is kill em all and let God sort them out. Youll just love it.                                                                                                                                                                                                                                                                                                                                                                                                                                                                                                                                                                                                                                                                                                                                                                                                                                                                                                                                                                                                                                                                                                                                                                                                                                                                                                                                                                                                                                                                                                                               \n",
       "19  OK this movie was cool. I dont think it was the best movie ever made but it sure was fun. My brother and I still act out scenes once in a while and will occasionally yank the movie out of the cupboard blow off the dust and pop it in. Enjoyable all the way until the end but a great concept. This is a movie that one has to just forget criticism all together and just enjoy. Judgment is victory for Robot Jox.                                                                                                                                                                                                                                                                                                                                                                                                                                                                                                                                                                                                                                                                                                                                                                                                                                                                                                                                                                                                                                                                                                                                                                                                                                                                                                                                                                                                                                                                                                                                                                                                                                                                                                                                                                                                                                                                                                                                                                                                                                                                                                                                                                                                                                                                                                                                                                                                                                                                                                                                                                                                                                                                                                                                                               \n",
       "\n",
       "   Class  Predicted  \n",
       "5   1     1          \n",
       "9   1     1          \n",
       "13  0     0          \n",
       "17  0     0          \n",
       "19  1     1          "
      ]
     },
     "execution_count": 28,
     "metadata": {},
     "output_type": "execute_result"
    }
   ],
   "source": [
    "#class predictions\n",
    "df = pd.DataFrame([X_test,Y_test]).transpose()\n",
    "df[\"Predicted\"] = lr_tfidf.predict(X_test_tfidf)\n",
    "df.head()"
   ]
  },
  {
   "cell_type": "code",
   "execution_count": 27,
   "metadata": {},
   "outputs": [
    {
     "data": {
      "text/html": [
       "<div>\n",
       "<style scoped>\n",
       "    .dataframe tbody tr th:only-of-type {\n",
       "        vertical-align: middle;\n",
       "    }\n",
       "\n",
       "    .dataframe tbody tr th {\n",
       "        vertical-align: top;\n",
       "    }\n",
       "\n",
       "    .dataframe thead th {\n",
       "        text-align: right;\n",
       "    }\n",
       "</style>\n",
       "<table border=\"1\" class=\"dataframe\">\n",
       "  <thead>\n",
       "    <tr style=\"text-align: right;\">\n",
       "      <th></th>\n",
       "      <th>Text</th>\n",
       "      <th>Class</th>\n",
       "      <th>Predicted</th>\n",
       "    </tr>\n",
       "  </thead>\n",
       "  <tbody>\n",
       "    <tr>\n",
       "      <th>24</th>\n",
       "      <td>CREEP is a straight up serious horror film set in real time that wants nothing more than to just show people get attacked in a empty subway platform by a mutant for 85 minutes. And it does just that. Nothing more nothing less. Director Christopher Smith draws out the drama a far as he plausibly can by introducing a series of characters that would actually have a reason to be in the subway after it is locked. He also leaves the origins of the titular Creep deliberately vague (unlawful experiments happening in the 60s underground are hinted at) and that little bit of mystery works for the most part. Sadly he undermines himself toward the end by actually holding back from a twist ending where more genetic malformations would appear (they are hinted at as well). Yes you heard me right - I wanted a clichéd twist ending! Franka (RUN LOLA RUN) Potente is good as the terrorized female lead and the rest of the cast is fine.</td>\n",
       "      <td>1</td>\n",
       "      <td>0</td>\n",
       "    </tr>\n",
       "    <tr>\n",
       "      <th>27</th>\n",
       "      <td>A surprisingly good movie! It has quite a few good jokes thru out the whole movie. The only negative thing is that some scenes go to the extremes to show just how stupid the two main characters are. We get it stupid blondes get on with it!  The plot just barely dodges being called corny. And boobies are always a plus altho the movie for some strange reason doesnt play with that card very much even tho the plot line introduces two black haired women who act as the evil counter part of our two blondes. So all in all a good movie to watch. I almost gave it an 8/10 but lets not get crazy.</td>\n",
       "      <td>1</td>\n",
       "      <td>0</td>\n",
       "    </tr>\n",
       "    <tr>\n",
       "      <th>99</th>\n",
       "      <td>This is strictly a review of the pilot episode as it appears on DVD. Television moved out of my life in 1981 so I never followed the series or any part of it - which means that Im immune to the nostalgic charm that Moonlighting appears to have for most reviewers.  (Possible spoiler warning)  The pilot of Moonlighting is your basic caveman meets fluffball yarn where a charming red-blooded he-man manipulates a misguided woman into realizing what she really wants and needs. The premises that the scripts wit is based on must have already felt stale around 1950. It also contains some frankly bad writing as in the scene where Maddie demolishes the furnishings instead of shooting the villain strictly in order to prove herself the inept female in need of masculine assistance.  I often feel that Susan Faludi overreacts in seeing male chauvinist conspiracy in simple entertainment but in this particular case Im all with her - Moonlighting has BACKLASH stamped all over it.  In one sense however this DVD is a must for all serious Bruce Willis fans: in addition to the pilot episode it contains the screen test that landed Willis the job. Both features show to what amazing extent Willis acting ability developed between 1985 and 1988/89 (Die Hard 1 In Country). Impressive!  Rating (and I _am_ a Bruce Willis fan): 2 out of 10</td>\n",
       "      <td>0</td>\n",
       "      <td>1</td>\n",
       "    </tr>\n",
       "    <tr>\n",
       "      <th>116</th>\n",
       "      <td>this movie is awesome. sort of. it dosent really say much or do much but it is an awesome movie to watch because of how stupid it is. the high school is taken over by evil ms.togar that hates the one thing that all the students love rock&amp; roll. riff randle get everyone tickets for the ramones show and this movie peaks with a take over of the school led my riff randle &amp; the ramones. this movie has everything a bad script questionable directing bad actors(ie clint howard &amp; p.j. soles) an awesome soundtrackextreme campyness these elements &amp; much more come together to make this what it isa classic. note - during the live ramones set notice that darby crash of the germs is in the front of the crowd. neat-o.</td>\n",
       "      <td>1</td>\n",
       "      <td>0</td>\n",
       "    </tr>\n",
       "    <tr>\n",
       "      <th>118</th>\n",
       "      <td>As shallow as it may sound I actually delayed my viewing of The Barbarians several times just because the VHS cover (as well as the picture image displayed here on the website) looks so incredibly gay! By now I wish I had watched it earlier because the movie isnt so much gay",
       ". just trashy cheesy campy and enormously fun! Its almost unbelievable that Ruggero Deodato director of Cannibal Holocaust of all people was the man responsible for this comical cash-in on the contemporary popular Sword &amp; Sandal fantasy flicks particularly Schwarzeneggers Conan movies. The film opens with a terrific once-upon-a-time type of off-screen narrator introducing us to the Ragneks. Their founder once traded an entire mountain of pure gold for just one magically powerful ruby that would allow them to travel in freedom and access every country as entertainers. In other words the Ragneks are a bunch of traveling circus freaks! Their happiness abruptly comes to end when the greedy Kadar kidnaps the Ragneks beautiful queen Canary and continuously attempts to discover the whereabouts of the ruby. Meanwhile and as some sort of amusing waste of time the two orphan twin-brothers Gore and Kutchek are trained to become muscled warriors and theyre unwarily prepared to fight each other to the death. Instead of that however they escape and develop a plan to free their queen. Actually the plot isnt half as bad as I initially feared but still the most fun is provided by the beefcake brothers on screen chemistry the crazily inept dialogs and of course the utterly cheesy fantasy-monsters like a dragon with adorably cute eyes some kind of werewolf creature and zombies that randomly appear to pop out of the swamp. The soundtrack and make-up effects are great and our almighty director Deodato maintains a terrifically fast pace. The Barbarian Brothers acting capacities are much better than I anticipated apart from the fact that one of them constantly produces gross belching sounds. The supportive cast is splendid as well. Eva La Rue never looked more beautiful as the witty savage girl Cara Virginia Bryant is indeed bewitching like Richard Lynch states on several occasions and the lovely Sheeba Alahani makes her first and only appearance on film as a vicious sorceress with a donut-shaped hair style (I kid you not!). Last but not least The Barbarians stars everybodys favorite Eyes in the Hills creep Michael Berryman as the appropriately named Dirtmaster. I know the displayed picture looks gayer than a promotional campaign for the musical version about the rise and fall of the Village People but The Barbarians really is a must-see Italian exploitation highlight.</td>\n",
       "      <td>1</td>\n",
       "      <td>0</td>\n",
       "    </tr>\n",
       "  </tbody>\n",
       "</table>\n",
       "</div>"
      ],
      "text/plain": [
       "                                                                                                                                                                                                                                                                                                                                                                                                                                                                                                                                                                                                                                                                                                                                                                                                                                                                                                                                                                                                                                                                                                                                                                                                                                                                                                                                                                                                                                                                                                                                                                                                                                                                                                                                                                                                                                                                                                                                                                                                                                                                                                                                                                                                                                                                                                                                                                                                                                                                                                                                                                                                                                                                                                                                                                         Text  \\\n",
       "24   CREEP is a straight up serious horror film set in real time that wants nothing more than to just show people get attacked in a empty subway platform by a mutant for 85 minutes. And it does just that. Nothing more nothing less. Director Christopher Smith draws out the drama a far as he plausibly can by introducing a series of characters that would actually have a reason to be in the subway after it is locked. He also leaves the origins of the titular Creep deliberately vague (unlawful experiments happening in the 60s underground are hinted at) and that little bit of mystery works for the most part. Sadly he undermines himself toward the end by actually holding back from a twist ending where more genetic malformations would appear (they are hinted at as well). Yes you heard me right - I wanted a clichéd twist ending! Franka (RUN LOLA RUN) Potente is good as the terrorized female lead and the rest of the cast is fine.                                                                                                                                                                                                                                                                                                                                                                                                                                                                                                                                                                                                                                                                                                                                                                                                                                                                                                                                                                                                                                                                                                                                                                                                                                                                                                                                                                                                                                                                                                                                                                                                                                                                                                                                                                                                           \n",
       "27   A surprisingly good movie! It has quite a few good jokes thru out the whole movie. The only negative thing is that some scenes go to the extremes to show just how stupid the two main characters are. We get it stupid blondes get on with it!  The plot just barely dodges being called corny. And boobies are always a plus altho the movie for some strange reason doesnt play with that card very much even tho the plot line introduces two black haired women who act as the evil counter part of our two blondes. So all in all a good movie to watch. I almost gave it an 8/10 but lets not get crazy.                                                                                                                                                                                                                                                                                                                                                                                                                                                                                                                                                                                                                                                                                                                                                                                                                                                                                                                                                                                                                                                                                                                                                                                                                                                                                                                                                                                                                                                                                                                                                                                                                                                                                                                                                                                                                                                                                                                                                                                                                                                                                                                                                            \n",
       "99   This is strictly a review of the pilot episode as it appears on DVD. Television moved out of my life in 1981 so I never followed the series or any part of it - which means that Im immune to the nostalgic charm that Moonlighting appears to have for most reviewers.  (Possible spoiler warning)  The pilot of Moonlighting is your basic caveman meets fluffball yarn where a charming red-blooded he-man manipulates a misguided woman into realizing what she really wants and needs. The premises that the scripts wit is based on must have already felt stale around 1950. It also contains some frankly bad writing as in the scene where Maddie demolishes the furnishings instead of shooting the villain strictly in order to prove herself the inept female in need of masculine assistance.  I often feel that Susan Faludi overreacts in seeing male chauvinist conspiracy in simple entertainment but in this particular case Im all with her - Moonlighting has BACKLASH stamped all over it.  In one sense however this DVD is a must for all serious Bruce Willis fans: in addition to the pilot episode it contains the screen test that landed Willis the job. Both features show to what amazing extent Willis acting ability developed between 1985 and 1988/89 (Die Hard 1 In Country). Impressive!  Rating (and I _am_ a Bruce Willis fan): 2 out of 10                                                                                                                                                                                                                                                                                                                                                                                                                                                                                                                                                                                                                                                                                                                                                                                                                                                                                                                                                                                                                                                                                                                                                                                                                                                                                                                                                                                          \n",
       "116  this movie is awesome. sort of. it dosent really say much or do much but it is an awesome movie to watch because of how stupid it is. the high school is taken over by evil ms.togar that hates the one thing that all the students love rock& roll. riff randle get everyone tickets for the ramones show and this movie peaks with a take over of the school led my riff randle & the ramones. this movie has everything a bad script questionable directing bad actors(ie clint howard & p.j. soles) an awesome soundtrackextreme campyness these elements & much more come together to make this what it isa classic. note - during the live ramones set notice that darby crash of the germs is in the front of the crowd. neat-o.                                                                                                                                                                                                                                                                                                                                                                                                                                                                                                                                                                                                                                                                                                                                                                                                                                                                                                                                                                                                                                                                                                                                                                                                                                                                                                                                                                                                                                                                                                                                                                                                                                                                                                                                                                                                                                                                                                                                                                                                                                    \n",
       "118  As shallow as it may sound I actually delayed my viewing of The Barbarians several times just because the VHS cover (as well as the picture image displayed here on the website) looks so incredibly gay! By now I wish I had watched it earlier because the movie isnt so much gay\n",
       ". just trashy cheesy campy and enormously fun! Its almost unbelievable that Ruggero Deodato director of Cannibal Holocaust of all people was the man responsible for this comical cash-in on the contemporary popular Sword & Sandal fantasy flicks particularly Schwarzeneggers Conan movies. The film opens with a terrific once-upon-a-time type of off-screen narrator introducing us to the Ragneks. Their founder once traded an entire mountain of pure gold for just one magically powerful ruby that would allow them to travel in freedom and access every country as entertainers. In other words the Ragneks are a bunch of traveling circus freaks! Their happiness abruptly comes to end when the greedy Kadar kidnaps the Ragneks beautiful queen Canary and continuously attempts to discover the whereabouts of the ruby. Meanwhile and as some sort of amusing waste of time the two orphan twin-brothers Gore and Kutchek are trained to become muscled warriors and theyre unwarily prepared to fight each other to the death. Instead of that however they escape and develop a plan to free their queen. Actually the plot isnt half as bad as I initially feared but still the most fun is provided by the beefcake brothers on screen chemistry the crazily inept dialogs and of course the utterly cheesy fantasy-monsters like a dragon with adorably cute eyes some kind of werewolf creature and zombies that randomly appear to pop out of the swamp. The soundtrack and make-up effects are great and our almighty director Deodato maintains a terrifically fast pace. The Barbarian Brothers acting capacities are much better than I anticipated apart from the fact that one of them constantly produces gross belching sounds. The supportive cast is splendid as well. Eva La Rue never looked more beautiful as the witty savage girl Cara Virginia Bryant is indeed bewitching like Richard Lynch states on several occasions and the lovely Sheeba Alahani makes her first and only appearance on film as a vicious sorceress with a donut-shaped hair style (I kid you not!). Last but not least The Barbarians stars everybodys favorite Eyes in the Hills creep Michael Berryman as the appropriately named Dirtmaster. I know the displayed picture looks gayer than a promotional campaign for the musical version about the rise and fall of the Village People but The Barbarians really is a must-see Italian exploitation highlight.   \n",
       "\n",
       "    Class  Predicted  \n",
       "24   1     0          \n",
       "27   1     0          \n",
       "99   0     1          \n",
       "116  1     0          \n",
       "118  1     0          "
      ]
     },
     "execution_count": 27,
     "metadata": {},
     "output_type": "execute_result"
    }
   ],
   "source": [
    "#instances where predictions do not match the actual class\n",
    "incorrect_pred = df[(df[\"Class\"]) != (df[\"Predicted\"])]\n",
    "incorrect_pred.head()"
   ]
  },
  {
   "cell_type": "code",
   "execution_count": 31,
   "metadata": {},
   "outputs": [
    {
     "data": {
      "text/plain": [
       "0.1303529411764706"
      ]
     },
     "execution_count": 31,
     "metadata": {},
     "output_type": "execute_result"
    }
   ],
   "source": [
    "# % of incorrect predictions\n",
    "len(incorrect_pred)/len(df)"
   ]
  }
 ],
 "metadata": {
  "anaconda-cloud": {},
  "kernelspec": {
   "display_name": "Python 3",
   "language": "python",
   "name": "python3"
  },
  "language_info": {
   "codemirror_mode": {
    "name": "ipython",
    "version": 3
   },
   "file_extension": ".py",
   "mimetype": "text/x-python",
   "name": "python",
   "nbconvert_exporter": "python",
   "pygments_lexer": "ipython3",
   "version": "3.7.3"
  }
 },
 "nbformat": 4,
 "nbformat_minor": 1
}
